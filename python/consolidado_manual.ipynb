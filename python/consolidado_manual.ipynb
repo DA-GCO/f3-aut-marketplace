{
 "cells": [
  {
   "cell_type": "code",
   "execution_count": 1,
   "metadata": {},
   "outputs": [],
   "source": [
    "from python.f3_mkp import F3MKP\n",
    "import python.constants as const\n",
    "from datetime import datetime\n",
    "import python.llave.bot_keys as bot_keys\n",
    "from python.bot_teams import BotKatherine\n",
    "import pandas as pd"
   ]
  },
  {
   "cell_type": "code",
   "execution_count": 2,
   "metadata": {},
   "outputs": [],
   "source": [
    "pd.set_option('display.max_columns', 200)"
   ]
  },
  {
   "cell_type": "code",
   "execution_count": 3,
   "metadata": {},
   "outputs": [
    {
     "name": "stdout",
     "output_type": "stream",
     "text": [
      "Bienvenido a F3 Marketplace:\n"
     ]
    }
   ],
   "source": [
    "dt_string = datetime.now().strftime('%y%m%d')\n",
    "print('Bienvenido a F3 Marketplace:')\n",
    "f3mkp = F3MKP()"
   ]
  },
  {
   "cell_type": "code",
   "execution_count": 5,
   "metadata": {},
   "outputs": [
    {
     "name": "stdout",
     "output_type": "stream",
     "text": [
      "   21 registros de F11s vacios\n",
      "   429 registros de F11s desplazados\n"
     ]
    }
   ],
   "source": [
    "f3mkp.build_planilla()\n",
    "planilla = f3mkp.get_planilla()\n",
    "planilla.drop(['nro_guia', 'subclase', 'descripcion1', 'clase', 'descripcion2', 'sublinea', 'descripcion3','linea', 'descripcion4', 'estado', 'cant*costo', 'diferencia', 'cant*precio', 'usuario_que_confirma'], axis=1, inplace=True)\n"
   ]
  },
  {
   "cell_type": "markdown",
   "metadata": {},
   "source": [
    "cols_faltantes = [x for x in const.cols_consolidado if not x in list(planilla.columns)]"
   ]
  },
  {
   "cell_type": "code",
   "execution_count": 4,
   "metadata": {},
   "outputs": [],
   "source": [
    "consolidado = planilla.reindex(columns=const.cols_consolidado)"
   ]
  },
  {
   "cell_type": "code",
   "execution_count": 5,
   "metadata": {},
   "outputs": [
    {
     "data": {
      "text/html": [
       "<div>\n",
       "<style scoped>\n",
       "    .dataframe tbody tr th:only-of-type {\n",
       "        vertical-align: middle;\n",
       "    }\n",
       "\n",
       "    .dataframe tbody tr th {\n",
       "        vertical-align: top;\n",
       "    }\n",
       "\n",
       "    .dataframe thead th {\n",
       "        text-align: right;\n",
       "    }\n",
       "</style>\n",
       "<table border=\"1\" class=\"dataframe\">\n",
       "  <thead>\n",
       "    <tr style=\"text-align: right;\">\n",
       "      <th></th>\n",
       "      <th>nro_devolucion</th>\n",
       "      <th>fecha_reserva</th>\n",
       "      <th>fecha_revision</th>\n",
       "      <th>fecha_sconfirmacion</th>\n",
       "      <th>digitador_responsable</th>\n",
       "      <th>soporte_es_una_guia_de_transportadora</th>\n",
       "      <th>ndeg_guia_/_carta_cambio</th>\n",
       "      <th>transportadora</th>\n",
       "      <th>estado_entregado_de_guia_en_la_plataforma_de_la_transportadora</th>\n",
       "      <th>nombre_del_seller_en_el_destinatario</th>\n",
       "      <th>...</th>\n",
       "      <th>local_agg</th>\n",
       "      <th>estado_descrip</th>\n",
       "      <th>estado_agg</th>\n",
       "      <th>cantidad</th>\n",
       "      <th>cant*costoprmd</th>\n",
       "      <th>tipo_documento_para_dev</th>\n",
       "      <th>nc_proveedor</th>\n",
       "      <th>folio_f11</th>\n",
       "      <th>folio_f12</th>\n",
       "      <th>usuario_creacion</th>\n",
       "    </tr>\n",
       "  </thead>\n",
       "  <tbody>\n",
       "    <tr>\n",
       "      <th>0</th>\n",
       "      <td>32540000</td>\n",
       "      <td>2020-02-22</td>\n",
       "      <td>NaN</td>\n",
       "      <td>NaN</td>\n",
       "      <td>NaN</td>\n",
       "      <td>NaN</td>\n",
       "      <td>NaN</td>\n",
       "      <td>NaN</td>\n",
       "      <td>NaN</td>\n",
       "      <td>NaN</td>\n",
       "      <td>...</td>\n",
       "      <td>TIENDA</td>\n",
       "      <td>confirmado</td>\n",
       "      <td>cerrado</td>\n",
       "      <td>1</td>\n",
       "      <td>199800</td>\n",
       "      <td>sin comprobante</td>\n",
       "      <td>nan</td>\n",
       "      <td>NaN</td>\n",
       "      <td>NaN</td>\n",
       "      <td>NaN</td>\n",
       "    </tr>\n",
       "    <tr>\n",
       "      <th>1</th>\n",
       "      <td>32850000</td>\n",
       "      <td>2021-04-15</td>\n",
       "      <td>NaN</td>\n",
       "      <td>NaN</td>\n",
       "      <td>NaN</td>\n",
       "      <td>NaN</td>\n",
       "      <td>NaN</td>\n",
       "      <td>NaN</td>\n",
       "      <td>NaN</td>\n",
       "      <td>NaN</td>\n",
       "      <td>...</td>\n",
       "      <td>TIENDA</td>\n",
       "      <td>confirmado</td>\n",
       "      <td>cerrado</td>\n",
       "      <td>1</td>\n",
       "      <td>79900</td>\n",
       "      <td>nota credito</td>\n",
       "      <td>nan</td>\n",
       "      <td>NaN</td>\n",
       "      <td>12636878700</td>\n",
       "      <td>NaN</td>\n",
       "    </tr>\n",
       "    <tr>\n",
       "      <th>2</th>\n",
       "      <td>32586800</td>\n",
       "      <td>2020-06-28</td>\n",
       "      <td>NaN</td>\n",
       "      <td>NaN</td>\n",
       "      <td>NaN</td>\n",
       "      <td>NaN</td>\n",
       "      <td>NaN</td>\n",
       "      <td>NaN</td>\n",
       "      <td>NaN</td>\n",
       "      <td>NaN</td>\n",
       "      <td>...</td>\n",
       "      <td>TIENDA</td>\n",
       "      <td>confirmado</td>\n",
       "      <td>cerrado</td>\n",
       "      <td>1</td>\n",
       "      <td>34900</td>\n",
       "      <td>sin comprobante</td>\n",
       "      <td>nan</td>\n",
       "      <td>NaN</td>\n",
       "      <td>NaN</td>\n",
       "      <td>NaN</td>\n",
       "    </tr>\n",
       "    <tr>\n",
       "      <th>3</th>\n",
       "      <td>32589900</td>\n",
       "      <td>2020-07-08</td>\n",
       "      <td>NaN</td>\n",
       "      <td>NaN</td>\n",
       "      <td>NaN</td>\n",
       "      <td>NaN</td>\n",
       "      <td>NaN</td>\n",
       "      <td>NaN</td>\n",
       "      <td>NaN</td>\n",
       "      <td>NaN</td>\n",
       "      <td>...</td>\n",
       "      <td>CD</td>\n",
       "      <td>confirmado</td>\n",
       "      <td>cerrado</td>\n",
       "      <td>1</td>\n",
       "      <td>56000</td>\n",
       "      <td>nota credito</td>\n",
       "      <td>nan</td>\n",
       "      <td>NaN</td>\n",
       "      <td>12579620329</td>\n",
       "      <td>NaN</td>\n",
       "    </tr>\n",
       "    <tr>\n",
       "      <th>4</th>\n",
       "      <td>32590500</td>\n",
       "      <td>2020-07-09</td>\n",
       "      <td>NaN</td>\n",
       "      <td>NaN</td>\n",
       "      <td>NaN</td>\n",
       "      <td>NaN</td>\n",
       "      <td>NaN</td>\n",
       "      <td>NaN</td>\n",
       "      <td>NaN</td>\n",
       "      <td>NaN</td>\n",
       "      <td>...</td>\n",
       "      <td>CD</td>\n",
       "      <td>confirmado</td>\n",
       "      <td>cerrado</td>\n",
       "      <td>1</td>\n",
       "      <td>959900</td>\n",
       "      <td>nota credito</td>\n",
       "      <td>nan</td>\n",
       "      <td>NaN</td>\n",
       "      <td>12579224879</td>\n",
       "      <td>NaN</td>\n",
       "    </tr>\n",
       "  </tbody>\n",
       "</table>\n",
       "<p>5 rows × 44 columns</p>\n",
       "</div>"
      ],
      "text/plain": [
       "  nro_devolucion fecha_reserva  fecha_revision  fecha_sconfirmacion  \\\n",
       "0       32540000    2020-02-22             NaN                  NaN   \n",
       "1       32850000    2021-04-15             NaN                  NaN   \n",
       "2       32586800    2020-06-28             NaN                  NaN   \n",
       "3       32589900    2020-07-08             NaN                  NaN   \n",
       "4       32590500    2020-07-09             NaN                  NaN   \n",
       "\n",
       "   digitador_responsable  soporte_es_una_guia_de_transportadora  \\\n",
       "0                    NaN                                    NaN   \n",
       "1                    NaN                                    NaN   \n",
       "2                    NaN                                    NaN   \n",
       "3                    NaN                                    NaN   \n",
       "4                    NaN                                    NaN   \n",
       "\n",
       "   ndeg_guia_/_carta_cambio  transportadora  \\\n",
       "0                       NaN             NaN   \n",
       "1                       NaN             NaN   \n",
       "2                       NaN             NaN   \n",
       "3                       NaN             NaN   \n",
       "4                       NaN             NaN   \n",
       "\n",
       "   estado_entregado_de_guia_en_la_plataforma_de_la_transportadora  \\\n",
       "0                                                NaN                \n",
       "1                                                NaN                \n",
       "2                                                NaN                \n",
       "3                                                NaN                \n",
       "4                                                NaN                \n",
       "\n",
       "   nombre_del_seller_en_el_destinatario  ...  local_agg  estado_descrip  \\\n",
       "0                                   NaN  ...     TIENDA      confirmado   \n",
       "1                                   NaN  ...     TIENDA      confirmado   \n",
       "2                                   NaN  ...     TIENDA      confirmado   \n",
       "3                                   NaN  ...         CD      confirmado   \n",
       "4                                   NaN  ...         CD      confirmado   \n",
       "\n",
       "   estado_agg  cantidad  cant*costoprmd  tipo_documento_para_dev  \\\n",
       "0     cerrado         1          199800          sin comprobante   \n",
       "1     cerrado         1           79900             nota credito   \n",
       "2     cerrado         1           34900          sin comprobante   \n",
       "3     cerrado         1           56000             nota credito   \n",
       "4     cerrado         1          959900             nota credito   \n",
       "\n",
       "   nc_proveedor  folio_f11    folio_f12  usuario_creacion  \n",
       "0           nan        NaN          NaN               NaN  \n",
       "1           nan        NaN  12636878700               NaN  \n",
       "2           nan        NaN          NaN               NaN  \n",
       "3           nan        NaN  12579620329               NaN  \n",
       "4           nan        NaN  12579224879               NaN  \n",
       "\n",
       "[5 rows x 44 columns]"
      ]
     },
     "execution_count": 5,
     "metadata": {},
     "output_type": "execute_result"
    }
   ],
   "source": [
    "consolidado.head()"
   ]
  },
  {
   "cell_type": "code",
   "execution_count": 14,
   "metadata": {},
   "outputs": [],
   "source": [
    "consolidado.to_excel(f'consolidado/consolidado_f3_marketplace-dup.xlsx',sheet_name = 'DB', index=False) # TODO revisar "
   ]
  },
  {
   "cell_type": "code",
   "execution_count": 4,
   "metadata": {},
   "outputs": [
    {
     "name": "stdout",
     "output_type": "stream",
     "text": [
      "   21 registros de F11s vacios\n",
      "   429 registros de F11s desplazados\n"
     ]
    },
    {
     "ename": "KeyError",
     "evalue": "\"['duplicado'] not in index\"",
     "output_type": "error",
     "traceback": [
      "\u001b[1;31m---------------------------------------------------------------------------\u001b[0m",
      "\u001b[1;31mKeyError\u001b[0m                                  Traceback (most recent call last)",
      "\u001b[1;32mC:\\Users\\EXT_MA~1\\AppData\\Local\\Temp/ipykernel_2452/1476886430.py\u001b[0m in \u001b[0;36m<module>\u001b[1;34m\u001b[0m\n\u001b[1;32m----> 1\u001b[1;33m \u001b[0mf3mkp\u001b[0m\u001b[1;33m.\u001b[0m\u001b[0mbuild_consolidado\u001b[0m\u001b[1;33m(\u001b[0m\u001b[1;33m)\u001b[0m\u001b[1;33m\u001b[0m\u001b[1;33m\u001b[0m\u001b[0m\n\u001b[0m",
      "\u001b[1;32mc:\\Users\\ext_maperezr\\f3-aut\\python\\f3_mkp.py\u001b[0m in \u001b[0;36mbuild_consolidado\u001b[1;34m(self)\u001b[0m\n\u001b[0;32m     62\u001b[0m         \u001b[1;31m# Elimina columnas innecesarias\u001b[0m\u001b[1;33m\u001b[0m\u001b[1;33m\u001b[0m\u001b[0m\n\u001b[0;32m     63\u001b[0m         \u001b[0mself\u001b[0m\u001b[1;33m.\u001b[0m\u001b[0mplanilla\u001b[0m\u001b[1;33m.\u001b[0m\u001b[0mdrop\u001b[0m\u001b[1;33m(\u001b[0m\u001b[1;33m[\u001b[0m\u001b[1;34m'nro_guia'\u001b[0m\u001b[1;33m,\u001b[0m \u001b[1;34m'subclase'\u001b[0m\u001b[1;33m,\u001b[0m \u001b[1;34m'descripcion1'\u001b[0m\u001b[1;33m,\u001b[0m \u001b[1;34m'clase'\u001b[0m\u001b[1;33m,\u001b[0m \u001b[1;34m'descripcion2'\u001b[0m\u001b[1;33m,\u001b[0m \u001b[1;34m'sublinea'\u001b[0m\u001b[1;33m,\u001b[0m \u001b[1;34m'descripcion3'\u001b[0m\u001b[1;33m,\u001b[0m\u001b[1;34m'linea'\u001b[0m\u001b[1;33m,\u001b[0m \u001b[1;34m'descripcion4'\u001b[0m\u001b[1;33m,\u001b[0m \u001b[1;34m'estado'\u001b[0m\u001b[1;33m,\u001b[0m \u001b[1;34m'cant*costo'\u001b[0m\u001b[1;33m,\u001b[0m \u001b[1;34m'diferencia'\u001b[0m\u001b[1;33m,\u001b[0m \u001b[1;34m'cant*precio'\u001b[0m\u001b[1;33m,\u001b[0m \u001b[1;34m'usuario_que_confirma'\u001b[0m\u001b[1;33m]\u001b[0m\u001b[1;33m,\u001b[0m \u001b[0maxis\u001b[0m\u001b[1;33m=\u001b[0m\u001b[1;36m1\u001b[0m\u001b[1;33m,\u001b[0m \u001b[0minplace\u001b[0m\u001b[1;33m=\u001b[0m\u001b[1;32mTrue\u001b[0m\u001b[1;33m)\u001b[0m\u001b[1;33m\u001b[0m\u001b[1;33m\u001b[0m\u001b[0m\n\u001b[1;32m---> 64\u001b[1;33m         \u001b[0mself\u001b[0m\u001b[1;33m.\u001b[0m\u001b[0mconsolidado\u001b[0m \u001b[1;33m=\u001b[0m \u001b[0mself\u001b[0m\u001b[1;33m.\u001b[0m\u001b[0mplanilla\u001b[0m\u001b[1;33m.\u001b[0m\u001b[0mmerge\u001b[0m\u001b[1;33m(\u001b[0m\u001b[0mself\u001b[0m\u001b[1;33m.\u001b[0m\u001b[0mconsolidado\u001b[0m\u001b[1;33m[\u001b[0m\u001b[0mconst\u001b[0m\u001b[1;33m.\u001b[0m\u001b[0mcols_a_incoporar_consolidado_a_planilla\u001b[0m\u001b[1;33m]\u001b[0m\u001b[1;33m,\u001b[0m \u001b[0mhow\u001b[0m\u001b[1;33m=\u001b[0m\u001b[1;34m\"left\"\u001b[0m \u001b[1;33m,\u001b[0m \u001b[0mon\u001b[0m\u001b[1;33m=\u001b[0m\u001b[1;33m[\u001b[0m\u001b[1;34m\"nro_devolucion\"\u001b[0m\u001b[1;33m,\u001b[0m\u001b[1;34m\"upc\"\u001b[0m\u001b[1;33m,\u001b[0m \u001b[1;34m\"cantidad\"\u001b[0m\u001b[1;33m]\u001b[0m\u001b[1;33m)\u001b[0m\u001b[1;33m\u001b[0m\u001b[1;33m\u001b[0m\u001b[0m\n\u001b[0m\u001b[0;32m     65\u001b[0m         \u001b[0mself\u001b[0m\u001b[1;33m.\u001b[0m\u001b[0mconsolidado\u001b[0m \u001b[1;33m=\u001b[0m \u001b[0mself\u001b[0m\u001b[1;33m.\u001b[0m\u001b[0mconsolidado\u001b[0m\u001b[1;33m.\u001b[0m\u001b[0mreindex\u001b[0m\u001b[1;33m(\u001b[0m\u001b[0mcolumns\u001b[0m\u001b[1;33m=\u001b[0m\u001b[0mconst\u001b[0m\u001b[1;33m.\u001b[0m\u001b[0mcols_consolidado\u001b[0m\u001b[1;33m)\u001b[0m\u001b[1;33m\u001b[0m\u001b[1;33m\u001b[0m\u001b[0m\n\u001b[0;32m     66\u001b[0m         \u001b[0mself\u001b[0m\u001b[1;33m.\u001b[0m\u001b[0mconsolidado\u001b[0m\u001b[1;33m.\u001b[0m\u001b[0mreset_index\u001b[0m\u001b[1;33m(\u001b[0m\u001b[0minplace\u001b[0m\u001b[1;33m=\u001b[0m\u001b[1;32mTrue\u001b[0m\u001b[1;33m)\u001b[0m\u001b[1;33m\u001b[0m\u001b[1;33m\u001b[0m\u001b[0m\n",
      "\u001b[1;32m~\\Anaconda3\\lib\\site-packages\\pandas\\core\\frame.py\u001b[0m in \u001b[0;36m__getitem__\u001b[1;34m(self, key)\u001b[0m\n\u001b[0;32m   3462\u001b[0m             \u001b[1;32mif\u001b[0m \u001b[0mis_iterator\u001b[0m\u001b[1;33m(\u001b[0m\u001b[0mkey\u001b[0m\u001b[1;33m)\u001b[0m\u001b[1;33m:\u001b[0m\u001b[1;33m\u001b[0m\u001b[1;33m\u001b[0m\u001b[0m\n\u001b[0;32m   3463\u001b[0m                 \u001b[0mkey\u001b[0m \u001b[1;33m=\u001b[0m \u001b[0mlist\u001b[0m\u001b[1;33m(\u001b[0m\u001b[0mkey\u001b[0m\u001b[1;33m)\u001b[0m\u001b[1;33m\u001b[0m\u001b[1;33m\u001b[0m\u001b[0m\n\u001b[1;32m-> 3464\u001b[1;33m             \u001b[0mindexer\u001b[0m \u001b[1;33m=\u001b[0m \u001b[0mself\u001b[0m\u001b[1;33m.\u001b[0m\u001b[0mloc\u001b[0m\u001b[1;33m.\u001b[0m\u001b[0m_get_listlike_indexer\u001b[0m\u001b[1;33m(\u001b[0m\u001b[0mkey\u001b[0m\u001b[1;33m,\u001b[0m \u001b[0maxis\u001b[0m\u001b[1;33m=\u001b[0m\u001b[1;36m1\u001b[0m\u001b[1;33m)\u001b[0m\u001b[1;33m[\u001b[0m\u001b[1;36m1\u001b[0m\u001b[1;33m]\u001b[0m\u001b[1;33m\u001b[0m\u001b[1;33m\u001b[0m\u001b[0m\n\u001b[0m\u001b[0;32m   3465\u001b[0m \u001b[1;33m\u001b[0m\u001b[0m\n\u001b[0;32m   3466\u001b[0m         \u001b[1;31m# take() does not accept boolean indexers\u001b[0m\u001b[1;33m\u001b[0m\u001b[1;33m\u001b[0m\u001b[0m\n",
      "\u001b[1;32m~\\Anaconda3\\lib\\site-packages\\pandas\\core\\indexing.py\u001b[0m in \u001b[0;36m_get_listlike_indexer\u001b[1;34m(self, key, axis)\u001b[0m\n\u001b[0;32m   1312\u001b[0m             \u001b[0mkeyarr\u001b[0m\u001b[1;33m,\u001b[0m \u001b[0mindexer\u001b[0m\u001b[1;33m,\u001b[0m \u001b[0mnew_indexer\u001b[0m \u001b[1;33m=\u001b[0m \u001b[0max\u001b[0m\u001b[1;33m.\u001b[0m\u001b[0m_reindex_non_unique\u001b[0m\u001b[1;33m(\u001b[0m\u001b[0mkeyarr\u001b[0m\u001b[1;33m)\u001b[0m\u001b[1;33m\u001b[0m\u001b[1;33m\u001b[0m\u001b[0m\n\u001b[0;32m   1313\u001b[0m \u001b[1;33m\u001b[0m\u001b[0m\n\u001b[1;32m-> 1314\u001b[1;33m         \u001b[0mself\u001b[0m\u001b[1;33m.\u001b[0m\u001b[0m_validate_read_indexer\u001b[0m\u001b[1;33m(\u001b[0m\u001b[0mkeyarr\u001b[0m\u001b[1;33m,\u001b[0m \u001b[0mindexer\u001b[0m\u001b[1;33m,\u001b[0m \u001b[0maxis\u001b[0m\u001b[1;33m)\u001b[0m\u001b[1;33m\u001b[0m\u001b[1;33m\u001b[0m\u001b[0m\n\u001b[0m\u001b[0;32m   1315\u001b[0m \u001b[1;33m\u001b[0m\u001b[0m\n\u001b[0;32m   1316\u001b[0m         if needs_i8_conversion(ax.dtype) or isinstance(\n",
      "\u001b[1;32m~\\Anaconda3\\lib\\site-packages\\pandas\\core\\indexing.py\u001b[0m in \u001b[0;36m_validate_read_indexer\u001b[1;34m(self, key, indexer, axis)\u001b[0m\n\u001b[0;32m   1375\u001b[0m \u001b[1;33m\u001b[0m\u001b[0m\n\u001b[0;32m   1376\u001b[0m             \u001b[0mnot_found\u001b[0m \u001b[1;33m=\u001b[0m \u001b[0mlist\u001b[0m\u001b[1;33m(\u001b[0m\u001b[0mensure_index\u001b[0m\u001b[1;33m(\u001b[0m\u001b[0mkey\u001b[0m\u001b[1;33m)\u001b[0m\u001b[1;33m[\u001b[0m\u001b[0mmissing_mask\u001b[0m\u001b[1;33m.\u001b[0m\u001b[0mnonzero\u001b[0m\u001b[1;33m(\u001b[0m\u001b[1;33m)\u001b[0m\u001b[1;33m[\u001b[0m\u001b[1;36m0\u001b[0m\u001b[1;33m]\u001b[0m\u001b[1;33m]\u001b[0m\u001b[1;33m.\u001b[0m\u001b[0munique\u001b[0m\u001b[1;33m(\u001b[0m\u001b[1;33m)\u001b[0m\u001b[1;33m)\u001b[0m\u001b[1;33m\u001b[0m\u001b[1;33m\u001b[0m\u001b[0m\n\u001b[1;32m-> 1377\u001b[1;33m             \u001b[1;32mraise\u001b[0m \u001b[0mKeyError\u001b[0m\u001b[1;33m(\u001b[0m\u001b[1;34mf\"{not_found} not in index\"\u001b[0m\u001b[1;33m)\u001b[0m\u001b[1;33m\u001b[0m\u001b[1;33m\u001b[0m\u001b[0m\n\u001b[0m\u001b[0;32m   1378\u001b[0m \u001b[1;33m\u001b[0m\u001b[0m\n\u001b[0;32m   1379\u001b[0m \u001b[1;33m\u001b[0m\u001b[0m\n",
      "\u001b[1;31mKeyError\u001b[0m: \"['duplicado'] not in index\""
     ]
    }
   ],
   "source": [
    "f3mkp.build_consolidado()"
   ]
  },
  {
   "cell_type": "code",
   "execution_count": 5,
   "metadata": {},
   "outputs": [],
   "source": [
    "from python.cl_cleaning import CleaningText as ct "
   ]
  },
  {
   "cell_type": "code",
   "execution_count": 35,
   "metadata": {},
   "outputs": [],
   "source": [
    "f3mkp.load_consolidado()"
   ]
  },
  {
   "cell_type": "code",
   "execution_count": 36,
   "metadata": {},
   "outputs": [
    {
     "name": "stdout",
     "output_type": "stream",
     "text": [
      "   21 registros de F11s vacios\n",
      "   429 registros de F11s desplazados\n"
     ]
    }
   ],
   "source": [
    "\n",
    "f3mkp.consolidado = ct.norm_header(f3mkp.consolidado) # Normalize header TODO: revisar su uso, dado que ya viene limpio\n",
    "f3mkp.build_planilla()"
   ]
  },
  {
   "cell_type": "code",
   "execution_count": 38,
   "metadata": {},
   "outputs": [],
   "source": [
    "f3mkp.planilla.drop(['nro_guia', 'subclase', 'descripcion1', 'clase', 'descripcion2', 'sublinea', 'descripcion3','linea', 'descripcion4', 'estado', 'cant*costo', 'diferencia', 'cant*precio', 'usuario_que_confirma'], axis=1, inplace=True)\n"
   ]
  },
  {
   "cell_type": "code",
   "execution_count": 39,
   "metadata": {},
   "outputs": [],
   "source": [
    "cols_a_incoporar_consolidado_a_planilla = [\n",
    "'nro_devolucion', 'upc', 'cantidad', \n",
    "'fecha_revision',\n",
    " 'fecha_sconfirmacion',\n",
    " 'digitador_responsable',\n",
    " 'soporte_es_una_guia_de_transportadora',\n",
    " 'ndeg_guia_/_carta_cambio',\n",
    " 'transportadora',\n",
    " 'estado_entregado_de_guia_en_la_plataforma_de_la_transportadora',\n",
    " 'nombre_del_seller_en_el_destinatario',\n",
    " 'direccion_del_seller_corresponde',\n",
    " 'f12_corresponde',\n",
    " 'f3_corresponde',\n",
    " 'novedad',\n",
    " 'tipificacion_1',\n",
    " 'tipificacion_2',\n",
    " 'tipificacion_3',\n",
    " 'responsable_de_gestion',\n",
    " 'gestion',\n",
    " 'decision',\n",
    " 'estado_proceso',\n",
    " 'usr_validacion',\n",
    " 'entregado_a_adm']"
   ]
  },
  {
   "cell_type": "code",
   "execution_count": 40,
   "metadata": {},
   "outputs": [],
   "source": [
    "f3mkp.consolidado = f3mkp.planilla.merge(f3mkp.consolidado[cols_a_incoporar_consolidado_a_planilla], how=\"left\" , on=[\"nro_devolucion\",\"upc\", \"cantidad\"]) \n"
   ]
  },
  {
   "cell_type": "code",
   "execution_count": 42,
   "metadata": {},
   "outputs": [],
   "source": [
    "cols_consolidado=['nro_devolucion', 'fecha_reserva','fecha_revision','fecha_sconfirmacion', 'digitador_responsable',  \n",
    "       'soporte_es_una_guia_de_transportadora', 'ndeg_guia_/_carta_cambio', 'transportadora',\n",
    "       'estado_entregado_de_guia_en_la_plataforma_de_la_transportadora', 'nombre_del_seller_en_el_destinatario',\n",
    "       'direccion_del_seller_corresponde', 'f12_corresponde', 'f3_corresponde', 'novedad',\n",
    "       'tipificacion_1', 'tipificacion_2', 'tipificacion_3', 'responsable_de_gestion', 'gestion', \n",
    "       'decision', 'estado_proceso', 'usr_validacion', 'entregado_a_adm', 'fecha_envio', 'fecha_confirmacion', 'fecha_anulacion', \n",
    "       'upc', 'sku', 'descripcion', 'marca', 'proveedor', 'rut_proveedor', \n",
    "       'local', 'local_descrip', 'local_agg', 'duplicado', 'estado_descrip', 'estado_agg', 'cantidad', 'cant*costoprmd',\n",
    "       'tipo_documento_para_dev', 'nc_proveedor', 'folio_f11', 'folio_f12', 'usuario_creacion']"
   ]
  },
  {
   "cell_type": "code",
   "execution_count": 43,
   "metadata": {},
   "outputs": [],
   "source": [
    "f3mkp.consolidado = f3mkp.consolidado.reindex(columns=cols_consolidado)\n"
   ]
  },
  {
   "cell_type": "code",
   "execution_count": 45,
   "metadata": {},
   "outputs": [],
   "source": [
    "f3mkp.consolidado.reset_index(inplace=True)\n"
   ]
  },
  {
   "cell_type": "code",
   "execution_count": 46,
   "metadata": {},
   "outputs": [],
   "source": [
    "f3mkp.consolidado.rename(columns = {\"index\": \"indice_f3\"}, inplace=True)"
   ]
  },
  {
   "cell_type": "code",
   "execution_count": 44,
   "metadata": {},
   "outputs": [
    {
     "data": {
      "text/plain": [
       "Index(['nro_devolucion', 'fecha_reserva', 'fecha_revision',\n",
       "       'fecha_sconfirmacion', 'digitador_responsable',\n",
       "       'soporte_es_una_guia_de_transportadora', 'ndeg_guia_/_carta_cambio',\n",
       "       'transportadora',\n",
       "       'estado_entregado_de_guia_en_la_plataforma_de_la_transportadora',\n",
       "       'nombre_del_seller_en_el_destinatario',\n",
       "       'direccion_del_seller_corresponde', 'f12_corresponde', 'f3_corresponde',\n",
       "       'novedad', 'tipificacion_1', 'tipificacion_2', 'tipificacion_3',\n",
       "       'responsable_de_gestion', 'gestion', 'decision', 'estado_proceso',\n",
       "       'usr_validacion', 'entregado_a_adm', 'fecha_envio',\n",
       "       'fecha_confirmacion', 'fecha_anulacion', 'upc', 'sku', 'descripcion',\n",
       "       'marca', 'proveedor', 'rut_proveedor', 'local', 'local_descrip',\n",
       "       'local_agg', 'duplicado', 'estado_descrip', 'estado_agg', 'cantidad',\n",
       "       'cant*costoprmd', 'tipo_documento_para_dev', 'nc_proveedor',\n",
       "       'folio_f11', 'folio_f12', 'usuario_creacion'],\n",
       "      dtype='object')"
      ]
     },
     "execution_count": 44,
     "metadata": {},
     "output_type": "execute_result"
    }
   ],
   "source": [
    "f3mkp.consolidado.columns"
   ]
  },
  {
   "cell_type": "code",
   "execution_count": 47,
   "metadata": {},
   "outputs": [],
   "source": [
    "f3mkp.consolidado.to_excel(\"consolidado/consolidado.xlsx\")"
   ]
  },
  {
   "cell_type": "code",
   "execution_count": 16,
   "metadata": {},
   "outputs": [
    {
     "data": {
      "text/plain": [
       "Index(['nro_devolucion', 'fecha_reserva', 'fecha_envio', 'fecha_confirmacion',\n",
       "       'fecha_anulacion', 'upc', 'sku', 'descripcion', 'marca', 'proveedor',\n",
       "       'rut_proveedor', 'local', 'local_descrip', 'estado_descrip', 'cantidad',\n",
       "       'cant*costoprmd', 'tipo_documento_para_dev', 'nc_proveedor',\n",
       "       'folio_f11', 'folio_f12', 'local_agg', 'usuario_creacion', 'estado_agg',\n",
       "       'duplicado'],\n",
       "      dtype='object')"
      ]
     },
     "execution_count": 16,
     "metadata": {},
     "output_type": "execute_result"
    }
   ],
   "source": [
    "f3mkp.get_planilla().columns"
   ]
  }
 ],
 "metadata": {
  "interpreter": {
   "hash": "8ebac8f8f364d690520f7fa87029f639f88941f9cdb9d4c74cff5ecb7a0c603e"
  },
  "kernelspec": {
   "display_name": "Python 3.9.7 64-bit ('base': conda)",
   "language": "python",
   "name": "python3"
  },
  "language_info": {
   "codemirror_mode": {
    "name": "ipython",
    "version": 3
   },
   "file_extension": ".py",
   "mimetype": "text/x-python",
   "name": "python",
   "nbconvert_exporter": "python",
   "pygments_lexer": "ipython3",
   "version": "3.9.7"
  },
  "orig_nbformat": 4
 },
 "nbformat": 4,
 "nbformat_minor": 2
}
